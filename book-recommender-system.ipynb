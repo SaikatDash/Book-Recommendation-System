{
 "cells": [
  {
   "cell_type": "code",
   "execution_count": 1,
   "id": "4414f6bd",
   "metadata": {},
   "outputs": [],
   "source": [
    "import numpy as np\n",
    "import pandas as pd"
   ]
  },
  {
   "cell_type": "code",
   "execution_count": 2,
   "id": "94923046",
   "metadata": {},
   "outputs": [],
   "source": [
    "books = pd.read_csv('books.csv')\n",
    "users = pd.read_csv('users.csv')\n",
    "ratings = pd.read_csv('ratings.csv')"
   ]
  },
  {
   "cell_type": "code",
   "execution_count": 3,
   "id": "c8afc553",
   "metadata": {},
   "outputs": [
    {
     "data": {
      "text/plain": [
       "'https://images.amazon.com/images/P/0002005018.01.MZZZZZZZ.jpg'"
      ]
     },
     "execution_count": 3,
     "metadata": {},
     "output_type": "execute_result"
    }
   ],
   "source": [
    "books['Image-URL-M'][1]"
   ]
  },
  {
   "cell_type": "code",
   "execution_count": 4,
   "id": "5fd4dc69",
   "metadata": {},
   "outputs": [
    {
     "data": {
      "text/html": [
       "<div>\n",
       "<style scoped>\n",
       "    .dataframe tbody tr th:only-of-type {\n",
       "        vertical-align: middle;\n",
       "    }\n",
       "\n",
       "    .dataframe tbody tr th {\n",
       "        vertical-align: top;\n",
       "    }\n",
       "\n",
       "    .dataframe thead th {\n",
       "        text-align: right;\n",
       "    }\n",
       "</style>\n",
       "<table border=\"1\" class=\"dataframe\">\n",
       "  <thead>\n",
       "    <tr style=\"text-align: right;\">\n",
       "      <th></th>\n",
       "      <th>User-ID</th>\n",
       "      <th>Location</th>\n",
       "      <th>Age</th>\n",
       "    </tr>\n",
       "  </thead>\n",
       "  <tbody>\n",
       "    <tr>\n",
       "      <th>0</th>\n",
       "      <td>1</td>\n",
       "      <td>nyc, new york, usa</td>\n",
       "      <td>NaN</td>\n",
       "    </tr>\n",
       "    <tr>\n",
       "      <th>1</th>\n",
       "      <td>2</td>\n",
       "      <td>stockton, california, usa</td>\n",
       "      <td>18.0</td>\n",
       "    </tr>\n",
       "    <tr>\n",
       "      <th>2</th>\n",
       "      <td>3</td>\n",
       "      <td>moscow, yukon territory, russia</td>\n",
       "      <td>NaN</td>\n",
       "    </tr>\n",
       "    <tr>\n",
       "      <th>3</th>\n",
       "      <td>4</td>\n",
       "      <td>porto, v.n.gaia, portugal</td>\n",
       "      <td>17.0</td>\n",
       "    </tr>\n",
       "    <tr>\n",
       "      <th>4</th>\n",
       "      <td>5</td>\n",
       "      <td>farnborough, hants, united kingdom</td>\n",
       "      <td>NaN</td>\n",
       "    </tr>\n",
       "  </tbody>\n",
       "</table>\n",
       "</div>"
      ],
      "text/plain": [
       "   User-ID                            Location   Age\n",
       "0        1                  nyc, new york, usa   NaN\n",
       "1        2           stockton, california, usa  18.0\n",
       "2        3     moscow, yukon territory, russia   NaN\n",
       "3        4           porto, v.n.gaia, portugal  17.0\n",
       "4        5  farnborough, hants, united kingdom   NaN"
      ]
     },
     "execution_count": 4,
     "metadata": {},
     "output_type": "execute_result"
    }
   ],
   "source": [
    "users.head()"
   ]
  },
  {
   "cell_type": "code",
   "execution_count": 5,
   "id": "690238f5",
   "metadata": {},
   "outputs": [
    {
     "data": {
      "text/html": [
       "<div>\n",
       "<style scoped>\n",
       "    .dataframe tbody tr th:only-of-type {\n",
       "        vertical-align: middle;\n",
       "    }\n",
       "\n",
       "    .dataframe tbody tr th {\n",
       "        vertical-align: top;\n",
       "    }\n",
       "\n",
       "    .dataframe thead th {\n",
       "        text-align: right;\n",
       "    }\n",
       "</style>\n",
       "<table border=\"1\" class=\"dataframe\">\n",
       "  <thead>\n",
       "    <tr style=\"text-align: right;\">\n",
       "      <th></th>\n",
       "      <th>User-ID</th>\n",
       "      <th>ISBN</th>\n",
       "      <th>Book-Rating</th>\n",
       "    </tr>\n",
       "  </thead>\n",
       "  <tbody>\n",
       "    <tr>\n",
       "      <th>0</th>\n",
       "      <td>276725</td>\n",
       "      <td>034545104X</td>\n",
       "      <td>0</td>\n",
       "    </tr>\n",
       "    <tr>\n",
       "      <th>1</th>\n",
       "      <td>276726</td>\n",
       "      <td>0155061224</td>\n",
       "      <td>5</td>\n",
       "    </tr>\n",
       "    <tr>\n",
       "      <th>2</th>\n",
       "      <td>276727</td>\n",
       "      <td>0446520802</td>\n",
       "      <td>0</td>\n",
       "    </tr>\n",
       "    <tr>\n",
       "      <th>3</th>\n",
       "      <td>276729</td>\n",
       "      <td>052165615X</td>\n",
       "      <td>3</td>\n",
       "    </tr>\n",
       "    <tr>\n",
       "      <th>4</th>\n",
       "      <td>276729</td>\n",
       "      <td>0521795028</td>\n",
       "      <td>6</td>\n",
       "    </tr>\n",
       "  </tbody>\n",
       "</table>\n",
       "</div>"
      ],
      "text/plain": [
       "   User-ID        ISBN  Book-Rating\n",
       "0   276725  034545104X            0\n",
       "1   276726  0155061224            5\n",
       "2   276727  0446520802            0\n",
       "3   276729  052165615X            3\n",
       "4   276729  0521795028            6"
      ]
     },
     "execution_count": 5,
     "metadata": {},
     "output_type": "execute_result"
    }
   ],
   "source": [
    "ratings.head()"
   ]
  },
  {
   "cell_type": "code",
   "execution_count": 6,
   "id": "276d0dab",
   "metadata": {},
   "outputs": [
    {
     "name": "stdout",
     "output_type": "stream",
     "text": [
      "(39591, 8)\n",
      "(1149780, 3)\n",
      "(278858, 3)\n"
     ]
    }
   ],
   "source": [
    "print(books.shape)\n",
    "print(ratings.shape)\n",
    "print(users.shape)"
   ]
  },
  {
   "cell_type": "code",
   "execution_count": 7,
   "id": "269b86e1",
   "metadata": {},
   "outputs": [
    {
     "data": {
      "text/plain": [
       "ISBN                   0\n",
       "Book-Title             0\n",
       "Book-Author            1\n",
       "Year-Of-Publication    1\n",
       "Publisher              1\n",
       "Image-URL-S            1\n",
       "Image-URL-M            1\n",
       "Image-URL-L            1\n",
       "dtype: int64"
      ]
     },
     "execution_count": 7,
     "metadata": {},
     "output_type": "execute_result"
    }
   ],
   "source": [
    "books.isnull().sum()"
   ]
  },
  {
   "cell_type": "code",
   "execution_count": 8,
   "id": "35060ccd",
   "metadata": {},
   "outputs": [
    {
     "data": {
      "text/plain": [
       "User-ID          0\n",
       "Location         0\n",
       "Age         110762\n",
       "dtype: int64"
      ]
     },
     "execution_count": 8,
     "metadata": {},
     "output_type": "execute_result"
    }
   ],
   "source": [
    "users.isnull().sum()"
   ]
  },
  {
   "cell_type": "code",
   "execution_count": 9,
   "id": "b89899aa",
   "metadata": {},
   "outputs": [
    {
     "data": {
      "text/plain": [
       "User-ID        0\n",
       "ISBN           0\n",
       "Book-Rating    0\n",
       "dtype: int64"
      ]
     },
     "execution_count": 9,
     "metadata": {},
     "output_type": "execute_result"
    }
   ],
   "source": [
    "ratings.isnull().sum()"
   ]
  },
  {
   "cell_type": "code",
   "execution_count": 10,
   "id": "16410edc",
   "metadata": {},
   "outputs": [
    {
     "data": {
      "text/plain": [
       "0"
      ]
     },
     "execution_count": 10,
     "metadata": {},
     "output_type": "execute_result"
    }
   ],
   "source": [
    "books.duplicated().sum()"
   ]
  },
  {
   "cell_type": "code",
   "execution_count": 11,
   "id": "66adac61",
   "metadata": {},
   "outputs": [
    {
     "data": {
      "text/plain": [
       "0"
      ]
     },
     "execution_count": 11,
     "metadata": {},
     "output_type": "execute_result"
    }
   ],
   "source": [
    "ratings.duplicated().sum()"
   ]
  },
  {
   "cell_type": "code",
   "execution_count": 12,
   "id": "3f1b11a5",
   "metadata": {},
   "outputs": [
    {
     "data": {
      "text/plain": [
       "0"
      ]
     },
     "execution_count": 12,
     "metadata": {},
     "output_type": "execute_result"
    }
   ],
   "source": [
    "users.duplicated().sum()"
   ]
  },
  {
   "cell_type": "markdown",
   "id": "46d4719f",
   "metadata": {},
   "source": [
    "## Popularity Based Recommender System"
   ]
  },
  {
   "cell_type": "code",
   "execution_count": 13,
   "id": "cce41232",
   "metadata": {},
   "outputs": [],
   "source": [
    "ratings_with_name = ratings.merge(books,on='ISBN')"
   ]
  },
  {
   "cell_type": "code",
   "execution_count": 14,
   "id": "af8925a6",
   "metadata": {},
   "outputs": [
    {
     "data": {
      "text/html": [
       "<div>\n",
       "<style scoped>\n",
       "    .dataframe tbody tr th:only-of-type {\n",
       "        vertical-align: middle;\n",
       "    }\n",
       "\n",
       "    .dataframe tbody tr th {\n",
       "        vertical-align: top;\n",
       "    }\n",
       "\n",
       "    .dataframe thead th {\n",
       "        text-align: right;\n",
       "    }\n",
       "</style>\n",
       "<table border=\"1\" class=\"dataframe\">\n",
       "  <thead>\n",
       "    <tr style=\"text-align: right;\">\n",
       "      <th></th>\n",
       "      <th>Book-Title</th>\n",
       "      <th>num_ratings</th>\n",
       "    </tr>\n",
       "  </thead>\n",
       "  <tbody>\n",
       "    <tr>\n",
       "      <th>0</th>\n",
       "      <td>Tales of Terror and Suspense</td>\n",
       "      <td>1</td>\n",
       "    </tr>\n",
       "    <tr>\n",
       "      <th>1</th>\n",
       "      <td>#NAME?</td>\n",
       "      <td>3</td>\n",
       "    </tr>\n",
       "    <tr>\n",
       "      <th>2</th>\n",
       "      <td>$oft Money: The True Power in Our Nation's Cap...</td>\n",
       "      <td>5</td>\n",
       "    </tr>\n",
       "    <tr>\n",
       "      <th>3</th>\n",
       "      <td>' Sie belieben wohl zu scherzen, Mr. Feynman.'...</td>\n",
       "      <td>1</td>\n",
       "    </tr>\n",
       "    <tr>\n",
       "      <th>4</th>\n",
       "      <td>' Small g'. Eine Sommeridylle.</td>\n",
       "      <td>2</td>\n",
       "    </tr>\n",
       "    <tr>\n",
       "      <th>...</th>\n",
       "      <td>...</td>\n",
       "      <td>...</td>\n",
       "    </tr>\n",
       "    <tr>\n",
       "      <th>9334</th>\n",
       "      <td>why I'm like this : True Stories</td>\n",
       "      <td>11</td>\n",
       "    </tr>\n",
       "    <tr>\n",
       "      <th>9335</th>\n",
       "      <td>Â¿QuiÃ©n se ha llevado mi queso?</td>\n",
       "      <td>2</td>\n",
       "    </tr>\n",
       "    <tr>\n",
       "      <th>9336</th>\n",
       "      <td>Â¿QuÃ© me quieres, amor?</td>\n",
       "      <td>9</td>\n",
       "    </tr>\n",
       "    <tr>\n",
       "      <th>9337</th>\n",
       "      <td>Ã?Â?ber die Freiheit.</td>\n",
       "      <td>1</td>\n",
       "    </tr>\n",
       "    <tr>\n",
       "      <th>9338</th>\n",
       "      <td>Ã?Â?bermorgen.</td>\n",
       "      <td>1</td>\n",
       "    </tr>\n",
       "  </tbody>\n",
       "</table>\n",
       "<p>9339 rows × 2 columns</p>\n",
       "</div>"
      ],
      "text/plain": [
       "                                             Book-Title  num_ratings\n",
       "0                          Tales of Terror and Suspense            1\n",
       "1                                                #NAME?            3\n",
       "2     $oft Money: The True Power in Our Nation's Cap...            5\n",
       "3     ' Sie belieben wohl zu scherzen, Mr. Feynman.'...            1\n",
       "4                        ' Small g'. Eine Sommeridylle.            2\n",
       "...                                                 ...          ...\n",
       "9334                   why I'm like this : True Stories           11\n",
       "9335                   Â¿QuiÃ©n se ha llevado mi queso?            2\n",
       "9336                           Â¿QuÃ© me quieres, amor?            9\n",
       "9337                              Ã?Â?ber die Freiheit.            1\n",
       "9338                                     Ã?Â?bermorgen.            1\n",
       "\n",
       "[9339 rows x 2 columns]"
      ]
     },
     "execution_count": 14,
     "metadata": {},
     "output_type": "execute_result"
    }
   ],
   "source": [
    "num_rating_df = ratings_with_name.groupby('Book-Title').count()['Book-Rating'].reset_index()\n",
    "num_rating_df.rename(columns={'Book-Rating':'num_ratings'},inplace=True)\n",
    "num_rating_df"
   ]
  },
  {
   "cell_type": "code",
   "execution_count": 15,
   "id": "db1b0fd4",
   "metadata": {},
   "outputs": [],
   "source": [
    "avg_rating_df = ratings_with_name.groupby('Book-Title', as_index=False)['Book-Rating'].mean()\n",
    "avg_rating_df.rename(columns={'Book-Rating': 'avg_rating'}, inplace=True)"
   ]
  },
  {
   "cell_type": "code",
   "execution_count": 16,
   "id": "2524096d",
   "metadata": {},
   "outputs": [
    {
     "data": {
      "text/html": [
       "<div>\n",
       "<style scoped>\n",
       "    .dataframe tbody tr th:only-of-type {\n",
       "        vertical-align: middle;\n",
       "    }\n",
       "\n",
       "    .dataframe tbody tr th {\n",
       "        vertical-align: top;\n",
       "    }\n",
       "\n",
       "    .dataframe thead th {\n",
       "        text-align: right;\n",
       "    }\n",
       "</style>\n",
       "<table border=\"1\" class=\"dataframe\">\n",
       "  <thead>\n",
       "    <tr style=\"text-align: right;\">\n",
       "      <th></th>\n",
       "      <th>Book-Title</th>\n",
       "      <th>num_ratings</th>\n",
       "      <th>avg_rating</th>\n",
       "    </tr>\n",
       "  </thead>\n",
       "  <tbody>\n",
       "    <tr>\n",
       "      <th>0</th>\n",
       "      <td>Tales of Terror and Suspense</td>\n",
       "      <td>1</td>\n",
       "      <td>0.000000</td>\n",
       "    </tr>\n",
       "    <tr>\n",
       "      <th>1</th>\n",
       "      <td>#NAME?</td>\n",
       "      <td>3</td>\n",
       "      <td>5.000000</td>\n",
       "    </tr>\n",
       "    <tr>\n",
       "      <th>2</th>\n",
       "      <td>$oft Money: The True Power in Our Nation's Cap...</td>\n",
       "      <td>5</td>\n",
       "      <td>5.400000</td>\n",
       "    </tr>\n",
       "    <tr>\n",
       "      <th>3</th>\n",
       "      <td>' Sie belieben wohl zu scherzen, Mr. Feynman.'...</td>\n",
       "      <td>1</td>\n",
       "      <td>9.000000</td>\n",
       "    </tr>\n",
       "    <tr>\n",
       "      <th>4</th>\n",
       "      <td>' Small g'. Eine Sommeridylle.</td>\n",
       "      <td>2</td>\n",
       "      <td>4.500000</td>\n",
       "    </tr>\n",
       "    <tr>\n",
       "      <th>...</th>\n",
       "      <td>...</td>\n",
       "      <td>...</td>\n",
       "      <td>...</td>\n",
       "    </tr>\n",
       "    <tr>\n",
       "      <th>9334</th>\n",
       "      <td>why I'm like this : True Stories</td>\n",
       "      <td>11</td>\n",
       "      <td>4.272727</td>\n",
       "    </tr>\n",
       "    <tr>\n",
       "      <th>9335</th>\n",
       "      <td>Â¿QuiÃ©n se ha llevado mi queso?</td>\n",
       "      <td>2</td>\n",
       "      <td>7.500000</td>\n",
       "    </tr>\n",
       "    <tr>\n",
       "      <th>9336</th>\n",
       "      <td>Â¿QuÃ© me quieres, amor?</td>\n",
       "      <td>9</td>\n",
       "      <td>3.000000</td>\n",
       "    </tr>\n",
       "    <tr>\n",
       "      <th>9337</th>\n",
       "      <td>Ã?Â?ber die Freiheit.</td>\n",
       "      <td>1</td>\n",
       "      <td>7.000000</td>\n",
       "    </tr>\n",
       "    <tr>\n",
       "      <th>9338</th>\n",
       "      <td>Ã?Â?bermorgen.</td>\n",
       "      <td>1</td>\n",
       "      <td>0.000000</td>\n",
       "    </tr>\n",
       "  </tbody>\n",
       "</table>\n",
       "<p>9339 rows × 3 columns</p>\n",
       "</div>"
      ],
      "text/plain": [
       "                                             Book-Title  num_ratings  \\\n",
       "0                          Tales of Terror and Suspense            1   \n",
       "1                                                #NAME?            3   \n",
       "2     $oft Money: The True Power in Our Nation's Cap...            5   \n",
       "3     ' Sie belieben wohl zu scherzen, Mr. Feynman.'...            1   \n",
       "4                        ' Small g'. Eine Sommeridylle.            2   \n",
       "...                                                 ...          ...   \n",
       "9334                   why I'm like this : True Stories           11   \n",
       "9335                   Â¿QuiÃ©n se ha llevado mi queso?            2   \n",
       "9336                           Â¿QuÃ© me quieres, amor?            9   \n",
       "9337                              Ã?Â?ber die Freiheit.            1   \n",
       "9338                                     Ã?Â?bermorgen.            1   \n",
       "\n",
       "      avg_rating  \n",
       "0       0.000000  \n",
       "1       5.000000  \n",
       "2       5.400000  \n",
       "3       9.000000  \n",
       "4       4.500000  \n",
       "...          ...  \n",
       "9334    4.272727  \n",
       "9335    7.500000  \n",
       "9336    3.000000  \n",
       "9337    7.000000  \n",
       "9338    0.000000  \n",
       "\n",
       "[9339 rows x 3 columns]"
      ]
     },
     "execution_count": 16,
     "metadata": {},
     "output_type": "execute_result"
    }
   ],
   "source": [
    "popular_df = num_rating_df.merge(avg_rating_df,on='Book-Title')\n",
    "popular_df"
   ]
  },
  {
   "cell_type": "code",
   "execution_count": 17,
   "id": "96aeff99",
   "metadata": {},
   "outputs": [],
   "source": [
    "popular_df = popular_df[popular_df['num_ratings']>=250].sort_values('avg_rating',ascending=False).head(50)"
   ]
  },
  {
   "cell_type": "code",
   "execution_count": 18,
   "id": "2aeb6c74",
   "metadata": {},
   "outputs": [],
   "source": [
    "popular_df = popular_df.merge(books,on='Book-Title').drop_duplicates('Book-Title')[['Book-Title','Book-Author','Image-URL-M','num_ratings','avg_rating']]"
   ]
  },
  {
   "cell_type": "code",
   "execution_count": 19,
   "id": "b94cc12d",
   "metadata": {
    "scrolled": true
   },
   "outputs": [
    {
     "data": {
      "text/plain": [
       "'https://images.amazon.com/images/P/043935806X.01.MZZZZZZZ.jpg'"
      ]
     },
     "execution_count": 19,
     "metadata": {},
     "output_type": "execute_result"
    }
   ],
   "source": [
    "popular_df['Image-URL-M'][0]"
   ]
  },
  {
   "cell_type": "markdown",
   "id": "bd1b1056",
   "metadata": {},
   "source": [
    "## Collaborative Filtering Based Recommender System"
   ]
  },
  {
   "cell_type": "code",
   "execution_count": 44,
   "id": "8cadf2cc",
   "metadata": {},
   "outputs": [],
   "source": [
    "x = ratings_with_name.groupby('User-ID').count()['Book-Rating'] > 200\n",
    "padhe_likhe_users = x[x].index"
   ]
  },
  {
   "cell_type": "code",
   "execution_count": 63,
   "id": "5a7bb823",
   "metadata": {},
   "outputs": [
    {
     "name": "stdout",
     "output_type": "stream",
     "text": [
      "ratings_with_name shape: (80211, 10)\n",
      "Index(['User-ID', 'ISBN', 'Book-Rating', 'Book-Title', 'Book-Author',\n",
      "       'Year-Of-Publication', 'Publisher', 'Image-URL-S', 'Image-URL-M',\n",
      "       'Image-URL-L'],\n",
      "      dtype='object')\n",
      "   User-ID        ISBN  Book-Rating  \\\n",
      "0   276725  034545104X            0   \n",
      "1   276744  038550120X            7   \n",
      "2   276746  055356451X            0   \n",
      "3   276751  3596218098            8   \n",
      "4   276762  3453092007            8   \n",
      "\n",
      "                                   Book-Title       Book-Author  \\\n",
      "0                        Flesh Tones: A Novel        M. J. Rose   \n",
      "1                             A Painted House      JOHN GRISHAM   \n",
      "2                                  Night Sins         TAMI HOAG   \n",
      "3  Reise nach Ixtlan. Die Lehre des Don Juan.  Carlos Castaneda   \n",
      "4                            Die zweite Haut.       Dean Koontz   \n",
      "\n",
      "   Year-Of-Publication                 Publisher  \\\n",
      "0               2002.0          Ballantine Books   \n",
      "1               2001.0                 Doubleday   \n",
      "2               1995.0                    Bantam   \n",
      "3               1998.0  Fischer (Tb.), Frankfurt   \n",
      "4               1995.0                     Heyne   \n",
      "\n",
      "                                         Image-URL-S  \\\n",
      "0  https://images.amazon.com/images/P/034545104X....   \n",
      "1  https://images.amazon.com/images/P/038550120X....   \n",
      "2  https://images.amazon.com/images/P/055356451X....   \n",
      "3  https://images.amazon.com/images/P/3596218098....   \n",
      "4  https://images.amazon.com/images/P/3453092007....   \n",
      "\n",
      "                                         Image-URL-M  \\\n",
      "0  https://images.amazon.com/images/P/034545104X....   \n",
      "1  https://images.amazon.com/images/P/038550120X....   \n",
      "2  https://images.amazon.com/images/P/055356451X....   \n",
      "3  https://images.amazon.com/images/P/3596218098....   \n",
      "4  https://images.amazon.com/images/P/3453092007....   \n",
      "\n",
      "                                         Image-URL-L  \n",
      "0  https://images.amazon.com/images/P/034545104X....  \n",
      "1  https://images.amazon.com/images/P/038550120X....  \n",
      "2  https://images.amazon.com/images/P/055356451X....  \n",
      "3  https://images.amazon.com/images/P/3596218098....  \n",
      "4  https://images.amazon.com/images/P/3453092007....  \n"
     ]
    }
   ],
   "source": [
    "filtered_rating = ratings_with_name[ratings_with_name['User-ID'].isin(padhe_likhe_users)]\n",
    "print(\"ratings_with_name shape:\", ratings_with_name.shape)\n",
    "print(ratings_with_name.columns)\n",
    "print(ratings_with_name.head())"
   ]
  },
  {
   "cell_type": "code",
   "execution_count": 64,
   "id": "1bbea71c-b161-4a7d-996d-4359b8936e69",
   "metadata": {},
   "outputs": [
    {
     "name": "stdout",
     "output_type": "stream",
     "text": [
      "Active users found: 1343\n",
      "After filtering users: (39738, 10)\n",
      "Popular books found: 1585\n",
      "After filtering books: (28222, 10)\n"
     ]
    }
   ],
   "source": [
    "# Active users\n",
    "user_counts = ratings_with_name['User-ID'].value_counts()\n",
    "active_users = user_counts[user_counts > 10].index\n",
    "print(\"Active users found:\", len(active_users))\n",
    "\n",
    "# Filter users\n",
    "filtered_ratings = ratings_with_name[ratings_with_name['User-ID'].isin(active_users)]\n",
    "print(\"After filtering users:\", filtered_ratings.shape)\n",
    "\n",
    "# Popular books\n",
    "book_counts = filtered_ratings['Book-Title'].value_counts()\n",
    "popular_books = book_counts[book_counts > 5].index\n",
    "print(\"Popular books found:\", len(popular_books))\n",
    "\n",
    "# Final filtering\n",
    "filtered_ratings = filtered_ratings[filtered_ratings['Book-Title'].isin(popular_books)]\n",
    "print(\"After filtering books:\", filtered_ratings.shape)\n"
   ]
  },
  {
   "cell_type": "code",
   "execution_count": 65,
   "id": "e950301f-69f9-4c09-9402-b018254ac306",
   "metadata": {},
   "outputs": [
    {
     "name": "stdout",
     "output_type": "stream",
     "text": [
      "Pivot table shape: (1585, 1325)\n"
     ]
    }
   ],
   "source": [
    "pt = filtered_ratings.pivot_table(\n",
    "    index='Book-Title',\n",
    "    columns='User-ID',\n",
    "    values='Book-Rating'\n",
    ").fillna(0)\n",
    "\n",
    "print(\"Pivot table shape:\", pt.shape)"
   ]
  },
  {
   "cell_type": "code",
   "execution_count": 66,
   "id": "9b748d24",
   "metadata": {},
   "outputs": [],
   "source": [
    "y = filtered_rating.groupby('Book-Title').count()['Book-Rating']>=50\n",
    "famous_books = y[y].index"
   ]
  },
  {
   "cell_type": "code",
   "execution_count": 67,
   "id": "4b4f5f7f",
   "metadata": {},
   "outputs": [],
   "source": [
    "final_ratings = filtered_rating[filtered_rating['Book-Title'].isin(famous_books)]"
   ]
  },
  {
   "cell_type": "code",
   "execution_count": 50,
   "id": "af1c6e92",
   "metadata": {},
   "outputs": [],
   "source": [
    "pt = final_ratings.pivot_table(index='Book-Title',columns='User-ID',values='Book-Rating')"
   ]
  },
  {
   "cell_type": "code",
   "execution_count": 68,
   "id": "d049e58f",
   "metadata": {},
   "outputs": [],
   "source": [
    "pt.fillna(0,inplace=True)"
   ]
  },
  {
   "cell_type": "code",
   "execution_count": 52,
   "id": "8f01aaf1",
   "metadata": {},
   "outputs": [
    {
     "data": {
      "text/html": [
       "<div>\n",
       "<style scoped>\n",
       "    .dataframe tbody tr th:only-of-type {\n",
       "        vertical-align: middle;\n",
       "    }\n",
       "\n",
       "    .dataframe tbody tr th {\n",
       "        vertical-align: top;\n",
       "    }\n",
       "\n",
       "    .dataframe thead th {\n",
       "        text-align: right;\n",
       "    }\n",
       "</style>\n",
       "<table border=\"1\" class=\"dataframe\">\n",
       "  <thead>\n",
       "    <tr style=\"text-align: right;\">\n",
       "      <th>User-ID</th>\n",
       "    </tr>\n",
       "    <tr>\n",
       "      <th>Book-Title</th>\n",
       "    </tr>\n",
       "  </thead>\n",
       "  <tbody>\n",
       "  </tbody>\n",
       "</table>\n",
       "</div>"
      ],
      "text/plain": [
       "Empty DataFrame\n",
       "Columns: []\n",
       "Index: []"
      ]
     },
     "execution_count": 52,
     "metadata": {},
     "output_type": "execute_result"
    }
   ],
   "source": [
    "pt"
   ]
  },
  {
   "cell_type": "code",
   "execution_count": 56,
   "id": "cee47da5-1639-42ad-a587-b3b35d2e99fa",
   "metadata": {},
   "outputs": [
    {
     "name": "stdout",
     "output_type": "stream",
     "text": [
      "Pivot table shape: (1585, 1325)\n"
     ]
    }
   ],
   "source": [
    "print(\"Pivot table shape:\", pt.shape)"
   ]
  },
  {
   "cell_type": "code",
   "execution_count": 57,
   "id": "d7b61d57-a833-44fa-8915-b7b0bf964ab7",
   "metadata": {},
   "outputs": [
    {
     "name": "stdout",
     "output_type": "stream",
     "text": [
      "similarity_scores shape: (1585, 1585)\n"
     ]
    }
   ],
   "source": [
    "from sklearn.metrics.pairwise import cosine_similarity\n",
    "\n",
    "if pt.shape[0] > 0 and pt.shape[1] > 0:\n",
    "    similarity_scores = cosine_similarity(pt)\n",
    "    print(\"similarity_scores shape:\", similarity_scores.shape)\n",
    "else:\n",
    "    print(\"Pivot table is empty — cannot compute similarity scores.\")"
   ]
  },
  {
   "cell_type": "code",
   "execution_count": 59,
   "id": "a9814230",
   "metadata": {},
   "outputs": [],
   "source": [
    "def recommend(book_name):\n",
    "    if book_name not in pt.index:\n",
    "        print(f\"'{book_name}' not found in pivot table index.\")\n",
    "        return []\n",
    "    \n",
    "    index = np.where(pt.index == book_name)[0][0]\n",
    "    similar_items = sorted(list(enumerate(similarity_scores[index])), key=lambda x: x[1], reverse=True)[1:5]\n",
    "    \n",
    "    data = []\n",
    "    for i in similar_items:\n",
    "        item = []\n",
    "        temp_df = books[books['Book-Title'] == pt.index[i[0]]]\n",
    "        item.extend(list(temp_df.drop_duplicates('Book-Title')['Book-Title'].values))\n",
    "        item.extend(list(temp_df.drop_duplicates('Book-Title')['Book-Author'].values))\n",
    "        item.extend(list(temp_df.drop_duplicates('Book-Title')['Image-URL-M'].values))\n",
    "        \n",
    "        data.append(item)\n",
    "    return data"
   ]
  },
  {
   "cell_type": "code",
   "execution_count": 78,
   "id": "27435a2a-922d-4490-b9c7-8e342a347a8d",
   "metadata": {},
   "outputs": [
    {
     "name": "stdout",
     "output_type": "stream",
     "text": [
      "['09-Nov', '16 Lighthouse Road', '20,000 Leagues Under the Sea (Wordsworth Collection)', '204 Rosewood Lane', '30-Minute Meals', '31 Songs.', '311 Pelican Court', '7b', 'A 2nd Helping of Chicken Soup for the Soul (Chicken Soup for the Soul Series (Paper))', 'A 3rd Serving of Chicken Soup for the Soul (Chicken Soup for the Soul Series (Paper))', 'A 4th Course of Chicken Soup for the Soul: 101 More Stories to Open the Heart and Rekindle the Spirit', 'A 5th Portion of Chicken Soup for the Soul : 101 Stories to Open the Heart and Rekindle the Spirit', 'A 6th Bowl of Chicken Soup for the Soul (Chicken Soup for the Soul)', 'A Book Without Covers', 'A Child Called \\\\It\\\\\": One Child\\'s Courage to Survive\"', 'A Cold Day for Murder', \"A Cook's Tour\", 'A Cup of Chicken Soup for the Soul (Chicken Soup for the Soul Series (Paper))', 'A Cup of Comfort: Stories That Warm Your Heart, Lift Your Spirit, and Enrich Your Life', 'A Darker Dream', 'A Fine Balance', 'A Gesture Life', 'A Gift To Last', 'A Gown of Spanish Lace (Women of the West)', 'A Gracious Plenty', 'A Heart of Stone', 'A Journey to the New World: The Diary of Remember Patience Whipple, Mayflower, 1620 (Dear America Series)', \"A Kitchen Witch's Cookbook\", 'A Light in the Window (The Mitford Trilogy : Book 2)', 'A Little Princess (Book and Charm)', 'A Moveable Feast', 'A Murderous Yarn (Needlecraft Mysteries)', 'A New Leash on Death', 'A Night in Terror Tower (Goosebumps, No 27)', 'A Painted House', 'A Pale View of Hills (Vintage International)', 'A Patchwork Planet', 'A Perilous Attraction (Harlequin Historical, No. 621)', \"A Reporter's Life\", 'A Round-Heeled Woman : My Late-Life Adventures in Sex and Romance', 'A Season Of Miracles', \"A Second Chicken Soup for the Woman's Soul (Chicken Soup for the Soul Series)\", 'A Secret Affair', 'A Separate Peace', 'A Sudden Change of Heart', 'A Summer Affair', 'A Superior Death', 'A Time for Trolls: Fairy Tales from Norway', 'A Tree Grows in Brooklyn', 'A Whole New Light', 'A Widow for One Year', 'A Wind in the Door (Laurel Leaf Books)', \"A Wolf In Sheep's Clothing\", 'A Woman Named Damaris (Women of the West)', \"A l'Ouest rien de nouveau\", 'AGE OF INNOCENCE (MOVIE TIE-IN)', 'Abduction', 'About That Man', 'About a Boy', 'About a Boy (Movie Tie-In)', 'Above And Beyond', 'Acqua alta. Commissario Brunettis fÃ?Â¼nfter Fall.', 'Across the Nightingale Floor (Tales of the Otori, Book One)', 'Across the Nightingale Floor: Tales of the Otori, Book One', \"Acts of War (Tom Clancy's Op Center (Paperback))\", 'Adjusted to Death', 'Adrian Mole: The Cappuccino Years', 'Adventures of Huckleberry Finn', \"Adventures of a Psychic: The Fascinating Inspiring True-Life Story of One of America's Most Successful Clairvoyants\", 'Aerie Tik Tok of Oz: Defiant-Cn16dp', 'Affair to Remember, An', 'Affinity', 'Affluenza: The All-Consuming Epidemic', 'After Dark', 'After Tex', 'After the Fire', 'Alchemy and Academe', 'Alex: The Life Of A Child', 'Alias Mommy (Secret Identity) (Intrigue, 592)', 'Alive : The Story of the Andes Survivors (Avon Nonfiction)', 'All I Desire', 'All I Really Need to Know', 'All Smiles', \"All Souls: A Family Story from Southie (Ballantine Reader's Circle)\", 'All Together in One Place: A Novel of Kinship, Courage, and Faith (Kirkpatrick, Jane. Kinship and Courage Historical Series, Bk. 1.)', 'Aller guten Dinge sind vier.', 'Alpine Icon (Emma Lord Mysteries)', 'Amanda', 'Amber Brown Is Not a Crayon (Amber Brown (Paperback))', 'Ambulance Girl: How I Saved Myself by Becoming an EMT', 'America : A Jake Grafton Novel (A Jake Grafton Novel)', 'American Fuji', 'An Equal Music', 'An Instance of the Fingerpost', 'An Italian in America', 'An OCEAN IN IOWA: A NOVEL', 'And Baby Makes Six (9 Months Later) (Superrromance, 920)', 'And More by Andy Rooney', 'Angel Eyes', 'Angel Mine (Mira)', \"Angela's Ashes: A Memoir\", 'Angelas Ashes', 'Angelas Ashes: A Memoir', 'Angels in America: A Gay Fantasia on National Themes : Perestroika (Angels in America)', 'Angels in America: Millennium Approaches (Angels in America)', 'Anger: Wisdom for Cooling the Flames', 'Angle of Repose (Contemporary American Fiction)', 'Anguished English: An Anthology of Accidental Assaults Upon Our Language', 'Anleitung zum UnglÃ?Â¼cklichsein.', 'Anna Karenina (Wordsworth Classics)', 'Anne Frank in the World', \"Anne Frank's Tales from the Secret Annex\", 'Anne of Green Gables (Anne of Green Gables Novels (Paperback))', 'Anno Dracula', 'Answered Prayers', 'Antigone (French Language Edition)', 'Anything Considered', 'Apocalipstick', 'April Fool Dead : A Death on Demand Mystery (Death on Demand Mysteries (Paperback))', 'Around the World in Eighty Days', 'Artemis Fowl.', 'As I Lay Dying: The Corrected Text (Vintage International)', 'Ash Wednesday', 'Ask Anyone', \"Assassin's Apprentice (The Farseer Trilogy, Book 1)\", 'Assassins: Assignment: Jerusalem, Target: Antichrist (Left Behind #6)', 'At Home in Mitford (The Mitford Years)', 'At The Corner Of Love And Heartache', 'Atonement : A Novel', \"Attack of the Jack-O'-Lanterns (Goosebumps, 48)\", 'Au lit !', 'Auf Ehre und Gewissen. Roman.', 'Aunt Dimity Takes a Holiday', 'Aunt Dimity: Detective (Aunt Dimity (Hardcover))', 'Autobiography of a Face', 'Autobiography of a Fat Bride : True Tales of a Pretend Adulthood', 'Avatar Book One of Two (Star Trek Deep Space Nine)', 'BABES IN ARMS - FOUR SEASONS IN FIREFLY GLEN (Harlequin Superromance, No. 1047)', 'BEACHCOMBING FOR A SHIPWRECKED GOD', 'Baby Farm', 'Back to School Murder: A Lucy Stone Mystery (Lucy Stone Mysteries (Paperback))', 'Bad Boy: A Novel', 'Bad Girls of the Bible and What We Can Learn from Them', 'Bag of Bones', 'Balzac Et LA Petite Tailleuse Chino', 'Balzac and the Little Chinese Seamstress', 'Balzac et la petite tailleuse chinoise', 'Balzac und die kleine chinesische Schneiderin.', 'Bangkok 8', 'Bare Bones : A Novel', 'Basket Case', 'Battle for the Castle', 'Beach House', 'Beach Roses', 'Bears on Wheels (Bright &amp; Early Books)', \"Beethoven's Hair : An Extraordinary Historical Odyssey and a Scientific Mystery Solved\", 'Beezus and Ramona', 'Behind Enemy Lines: The Dominion War, Book 1 (Star Trek: The Next Generation)', 'Bella Tuscany : The Sweet Life in Italy', 'Beloved : Gift Edition', 'Best Friends', 'Best Of Enemies', 'Between Friends', 'Between The Lines', 'Biblioholism: The Literary Addiction', 'Bilbo, Le Hobbit', 'Bimbos of the Death Sun', 'Birds Bees And Babies 1994', 'Birthday Party Murder: A Lucy Stone Mystery (Lucy Stone Mysteries (Paperback))', 'Bitter Medicine', 'Bitter Sweet', 'Bitterroot Landing', 'Black Beauty (Wordsworth Collection)', 'Black Light', 'Bleak House (Wordsworth Classics)', \"Blind Man's Bluff: The Untold Story of American Submarine Espionage\", 'Blood Canticle (The Vampire Chronicles)', 'Blood Roses', 'Bloodstream: A Novel of Medical Suspense', 'Blue Angel', 'Blue Shoe', 'Blueberry Muffin Murder (Hannah Swensen Mysteries (Paperback))', 'Bone Cold', 'Book', 'Book Club', 'Book Lust: Recommended Reading for Every Mood, Moment, and Reason', 'Born in Shame', 'Born in Sin: A MacAllisters Novel', 'Bourne Identity', 'Boy Meets Girl : Say Hello to Courtship', 'Boy Still Missing : A Novel', 'Breach of Duty: A J.P. Beaumont Mystery', 'Breach of Promise', 'Breath, Eyes, Memory', 'Breathing Lessons', 'Bride Of Black Douglas (Mira)', \"Bridget Jones's Diary\", 'Bridget Jones. Am Rande des Wahnsinns.', 'Buffalo Valley', 'Bury Me Standing: The Gypsies and Their Journey (Vintage Departures)', 'Busted! (Left Behind. the Kids, 7)', 'But Not For Me (Silhouette Special Edition, No. 1472)', 'By Evil Means (Phoebe Siegel Mystery)', 'Bygones', 'CINDERELLA COMPL', 'CRUDDY: An Illustrated Novel', 'Cabin', 'Cain His Brother', 'Call Me Crazy : A Memoir (Lisa Drew Books (Hardcover))', 'Call of the Wild', 'Calling Romeo', 'Candide (Wordsworth Classics)', 'Cane River', 'Caper', 'Capital Crimes', 'Caravan', 'Caretaker (Star Trek Voyager, No 1)', 'Carmilla', 'Carolina Moon: A Novel', 'Castaways of the Flying Dutchman', \"Cat's Cradle\", 'Cat-Dependent No More: Learning to Live Cat-Free in a Cat-Filled World', 'Catering to Nobody', 'Catkin', 'Cats Eye', \"Cats' Letters to Santa\", 'Caucasia', 'Cecile: Gates of Gold (Girls of Many Lands)', 'Chain Letter (Avon Camelot Books (Paperback))', 'Chain of Evidence', 'Changing Habits', 'Charlie and the Great Glass Elevator: The Further Adventures of Charlie Bucket and Willie Wonka, Chocolate-Maker Extraordinary', \"Charlotte's Web\", 'Charming Billy', 'Chasing Cezanne', 'Chasing the Dime', \"Chicken Soup for the Cat and Dog Lover's Soul - Celebrating Pets as Family with Stories About Cats, Dogs and Other Critters\", 'Chicken Soup for the Christian Family Soul : Stories to Open the Heart and Rekindle the Spirit (Chicken Soup for the Soul Series)', 'Chicken Soup for the Christian Soul (Chicken Soup for the Soul Series (Paper))', 'Chicken Soup for the College Soul : Inspiring and Humorous Stories for College Students (Chicken Soup for the Soul)', 'Chicken Soup for the Country Soul (Chicken Soup for the Soul)', \"Chicken Soup for the Couple's Soul (Chicken Soup for the Soul)\", \"Chicken Soup for the Expectant Mother's Soul\", \"Chicken Soup for the Gardener's Soul, 101 Stories to Sow Seeds of Love, Hope and Laughter (Chicken Soup for the Soul)\", \"Chicken Soup for the Golfer's So (Chicken Soup for the Soul)\", \"Chicken Soup for the Kid's Soul : 101 Stories of Courage, Hope and Laughter (Chicken Soup for the Soul (Paperback Health Communications))\", \"Chicken Soup for the Mother's Soul (Chicken Soup for the Soul (Hardcover Health Communications))\", \"Chicken Soup for the Mother's Soul (Chicken Soup for the Soul Series (Paper))\", \"Chicken Soup for the Parent's Soul : 101 Stories of Loving, Learning and Parenting (Chicken Soup for the Soul (Paper))\", \"Chicken Soup for the Pet Lover's Soul (Chicken Soup for the Soul (Hardcover Health Communications))\", \"Chicken Soup for the Pet Lover's Soul (Chicken Soup for the Soul)\", 'Chicken Soup for the Preteen Soul - 101 Stories of Changes, Choices and Growing Up for Kids, ages 10-13', \"Chicken Soup for the Single's Soul - 101 Stories of Love and Inspiration for the Single, Divorced and Widowed\", 'Chicken Soup for the Soul (Chicken Soup for the Soul)', 'Chicken Soup for the Soul at Work (Chicken Soup for the Soul Series (Paper))', 'Chicken Soup for the Surviving Soul: 101 Healing Stories to Comfort Cancer Patients and Their Loved Ones', \"Chicken Soup for the Teacher's Soul: Stories to Open the Hearts and Rekindle the Spirit of Educators\", 'Chicken Soup for the Teenage Soul (Chicken Soup for the Soul)', 'Chicken Soup for the Teenage Soul II (Chicken Soup for the Soul Series)', 'Chicken Soup for the Teenage Soul III : More Stories of Life, Love and Learning (Chicken Soup for the Soul)', 'Chicken Soup for the Teenage Soul Letters - Letters of Life, Love and Learning (Chicken Soup for the Teenage Soul)', \"Chicken Soup for the Unsinkable Soul - Stories of Triumphing Over Life's Obstacles\", \"Chicken Soup for the Woman's Soul (Chicken Soup for the Soul Series (Paper))\", \"Chicken Soup for the Writer's Soul : Stories to Open the Heart and Rekindle the Spirit of Writers (Chicken Soup for the Soul)\", 'Children of God (Ballantine Readers Circle)', 'Chobits (Chobits)', 'Chobits Vol.1', 'Chocolat', 'Chocolat. Das Buch zum Film.', 'Chocolate Chip Cookie Murder (Hannah Swensen Mysteries (Paperback))', 'Christmas Cookie Murder: A Lucy Stone Mystery (Lucy Stone Mysteries (Paperback))', 'Cinderella', 'Cinnamon Skin', 'City of the Beasts', 'Clea and Zeus Divorce/91207 (Vintage Contemporaries (Paperback))', 'Cloud Nine', 'Clover (Clover, 1)', 'Cold Comfort Farm', 'Cold Mountain (MTI) (Vintage Contemporaries)', 'Cold Ridge', 'Cold Sassy Tree', 'Cold Tea On A Hot Day', 'Coldheart Canyon', 'Come the Spring', 'Comme un roman', 'Comment je suis devenu stupide', 'Comment voyager avec un saumon. Nouveaux pastiches et postiches', 'Conduct Unbecoming', 'Confederates in the Attic : Dispatches from the Unfinished Civil War (Vintage Departures)', 'Congreso de Futurologia', 'Contamination (Star Trek: The Next Generation, No. 16)', 'Conversations With God : An Uncommon Dialogue (Book 2)', 'Cooked Goose: A Savanna Reid Mystery (Savannah Reid Mysteries (Paperback))', 'Cooking for Harry : A Low-Carbohydrate Novel', \"Corelli's Mandolin : A Novel\", \"Couldn't Keep It to Myself : Testimonies from Our Imprisoned Sisters\", 'Count of Monte Cristo', 'Courage Tree', 'Courage Under Fire', 'Cowboy Come Home (Harlequin American Romance, No. 744)', 'Crashing Down', 'Crescent: A Novel', 'Crimson Rain', 'Cronica De Una Muerte Anunciada', 'Cronica de una muerte anunciada (Vintage Espanol)', 'Crossing Over', 'Crossings', 'Cry Wolf', 'Cuentos Para Pensar / Stories To Think About', 'Cunt: A Declaration of Independence (Live Girls Series)', 'Cunt: A Declaration of Independence (Live Girls)', 'Cutting Edge', 'Cyrano De Bergerac', 'DEAD CRAZY : DEAD CRAZY', 'DIANA HER TRUE STORY COMMEMORATIVE EDITION', 'DIARY ANNE FRANK', 'Daddy Factor (Harlequin American, No 680)', \"Daisy's Back in Town\", 'Dakota Born (Dakota Trilogy, Book 1)', 'Damals War Es Fredrich', 'Dancing On My Grave Gelsey Kirkland', 'Daring Moves', 'Dark Angel', 'Dark Angel (Casteel)', 'Dark Desire (Paranormal Romance)', 'Dark Heart (Dragonlance: The Meetings Sextet, Vol. 3)', 'Dark Hollow', 'Dark Legend', 'Dark Rivers of the Heart', 'Darkness and Light (Dragonlance: Preludes)', 'Das Auge des TÃ?Â¤nzers.', 'Das Druidentor.', 'Das Jesus Video.', 'Das Monstrum. Tommyknockers. Roman.', 'Das Parfum: Die Geschichte Eines Morders', 'Das Schweigen der LÃ?Â¤mmer.', 'Das Superwieb', 'Das Weibernest', 'Das WÃ?Â¼ten der ganzen Welt.', \"Daughter of Fortune : A Novel (Oprah's Book Club (Hardcover))\", 'Daughter of Fortune: A Novel', 'Daughter of Grace (Journals of Corrie Belle Hollister, Bk.2)', 'Daughter of the Queen of Sheba: A Memoir', 'Dead End', 'Dead Eyes', 'Dead Midnight (Sharon McCone Mysteries (Hardcover))', 'Dead Run', 'Dead in the Water (Kate Shugak Mysteries (Paperback))', 'Deadly Grace', 'Deadly Intent', 'Dear Doosie.', \"Death: At Death's Door (Vertigo, Number 1)\", 'Deepest Water', 'Defend and Betray (William Monk Novels (Paperback))', 'Degree of Guilt', 'Demolition Angel', 'Der Alchimist.', 'Der Club der toten Dichter. Roman.', 'Der Fanger Im Roggen', 'Der Hahn ist tot. Roman.', 'Der Keltische Ring.', \"Der Mann, der's wert ist.\", 'Der PferdeflÃ?Â¼sterer.', 'Der Rabbi', 'Der Richter Und Sein Henker', 'Der Strand', 'Der Vorleser', 'Der dritte Zwilling.', 'Der trÃ?Â¤umende Delphin. Eine magische Reise zu dir selbst.', 'Des Cornichons Au Chocolat', 'Des fleurs pour algernon', 'Des souris et des hommes', 'Desecration: Antichrist Takes the Throne (Left Behind No. 9)', 'Desert Dawn', 'Desperado', 'Desperate Measures (Barbara Holloway Novels (Paperback))', 'Deux GarÃ?Â§ons bien sous tous rapports', \"Devil'S Own\", \"Devil's Bride (Cynster Novels)\", 'Devotion', 'Diamond Spur', 'Dianetics: The Modern Science of Mental Health', 'Dictionary of the Khazars (F) (Vintage International)', 'Die Apothekerin', 'Die Bildhauerin.', 'Die HÃ?Â¤upter meiner Lieben.', 'Die Jury. Roman.', 'Die Korrekturen.', 'Die Nadel', 'Die Nebel von Avalon. Roman.', 'Die Puppenspieler', 'Die PÃ?Â¤pstin.', 'Die Regeln des GlÃ?Â¼cks.', 'Die RÃ?Â¼ckkehr des Tanzlehrers.', 'Die Stadt der wilden GÃ?Â¶tter', 'Die SÃ?Â¤ulen der Erde. Roman.', 'Die Unertragliche Leichtigkeit des Seins...The Unbearable Lightness of Being', 'Die Weiss Lowin / Contemporary German Lit', 'Die ZuckerbÃ?Â¤ckerin.', 'Die falsche FÃ?Â¤hrte.', 'Die fÃ?Â¼nfte Frau.', 'Digger', 'Dinner at the Homesick Restaurant', 'Dinopark/Jurassic Park', 'Dirty Jokes and Beer : Stories of the Unrefined', 'Disobedience', 'Divine Secrets of the Ya-Ya Sisterhood: A Novel', 'Dix petits nÃ?Â¨gres', 'Does My Bum Look Big in This?', 'Doing Good', 'Dolley: A Novel of Dolley Madison in Love and War', \"Dr. Atkins' New Diet Cookbook\", \"Dr. Atkins' New Diet Revolution\", 'Dr. Jekyll &amp; Mr. Hyde (Wordsworth Classics)', 'Dr. Jekyll and Mr. Hyde (Bantam Classics)', 'Dracula (Wordsworth Classics)', \"Dragon's Egg\", 'Dream Baby (By The Year 2000: Baby) (Harlequin Superromance, No. 870)', 'Dream Comes True', 'Dream Country', 'Dream Country (Sandman, Book 3)', 'Dream Unfolds', 'Dreamcatcher', \"Dress Codes: Of Three Girlhoods--My Mother's, My Father's, and Mine\", 'Drifter', 'Drinking Coffee Elsewhere', 'Driving Lessons (Mira)', \"Driving Mr. Albert: A Trip Across America With Einstein's Brain\", 'Drums of Autumn', 'Dubliners (Classics Library (NTC))', 'Dune (Dune Chronicles (Berkley Paperback))', \"Durable Goods : A Novel (Ballantine Reader's Circle)\", 'Dying for Chocolate (Culinary Mysteries (Hardcover))', 'EVEN COWGIRLS GET THE BLUES', 'EVERYTHING SHE EVER WANTED', 'Earth Medicine: Revealing Hidden Teachings of the Native American Medicine Wheel (Earth Quest)', 'East of Eden', 'Easy Prey', 'Eat Cake : A Novel', 'Eating The Cheshire Cat: A Novel', 'Eats, Shoots &amp; Leaves: The Zero Tolerance Approach to Punctuation', 'Eats, Shoots and Leaves: The Zero Tolerance Approach to Punctuation', \"Educating Esme: Diary of a Teacher's First Year\", 'Eeyore, Be Happy (Little Golden Book)', 'Ein Fall fÃ?Â¼r Kay Scarpetta.', 'Einmal ist keinmal.', 'Eins, zwei, drei und du bist frei.', 'El Antropologo Inocente', 'El Camino (Coleccion Destinolibro)', 'El Capitan Alatriste', 'El Diamante de Jerusalen', 'El Hobbit', 'El Libro de Las Ilusiones', 'El Secreto de La Diosa', 'El Senor De Los Anillos: El Retorno Del Rey (Tolkien, J. R. R. Lord of the Rings. 3.)', 'El Ultimo Caton', 'El caballero de la armadura oxidada', 'El mÃ©dico', 'El ocho', 'Eleventh Hour', 'Elise Ou LA Vraie Vie', 'Ellen Tebbits', 'Embrace the Twilight', 'Embraced by the Light', 'Emily of New Moon', 'Emma (Wordsworth Classics)', 'Emotionally Weird: A Novel', 'Enchanted Afternoon', 'Endstation Venedig. Commissario Brunettis zweiter Fall.', \"Endurance: Shackleton's Incredible Voyage\", 'Engaged to Die : A Death on Demand Mystery (Hart, Carolyn G)', 'English Passengers', 'Escape from Fire Island!: A Date With Destiny Adventure', 'Esperanza Rising', \"Et Si C'Etait Vrai / If This Were Only True\", 'Ethan of Athos', 'Even Cowgirls Get the Blues', 'Every Living Thing', 'Every Move She Makes', 'Every Move You Make (4 Strong Men) (Harlequin Superromance, No 643)', 'Everything You Have Is Mine (Lauren Laurano Mysteries)', 'Excavation', 'Exercices De Style', 'Exorcising Your Ex : How to Get Rid of the Demons of Relationships Past', 'Expendable', 'Expose (Mira)', 'Extension Du Domain De La Lutte', 'Face the Fire (Three Sisters Island Trilogy)', 'Fahrenheit 451', 'Fair and Tender Ladies', 'Faith of the Fallen (Sword of Truth, Book 6)', 'Falling Angels', 'False Memory', 'Familiar Oasis  (Fear Familiar:  Desert Mysteries) (Harlequin Intrigue, 673)', 'Family Way', 'Fear of Flying', 'Felicity Learns a Lesson: A School Story (American Girls Collection (Paper))', 'Feuerkind. Thriller.', 'Fever', 'Fever Pitch', 'Fifth Daughter', 'Final Diagnosis', 'Final Exit', 'Final Stand', 'Finding Mr. Right', 'Fingersmith', 'Fire Lover: A True Story', 'First Family Of Texas (Home On The Ranch) (Harlequin Super Romance)', 'First Ladies', 'Firstborn (Dragonlance Elven Nations, Vol 1)', 'Fit For A King (Mira)', 'Flatland: A Romance of Many Dimensions (Dover Thrift Editions)', 'Flesh Tones: A Novel', 'Flesh and Blood', 'Flik the Inventor', 'Fluke : Or, I Know Why the Winged Whale Sings', \"Fool's Puzzle\", 'For the Roses', 'Forbidden Fruit', 'Foreign Affairs-Op/20', 'Foreign Foes (Star Trek The Next Generation, No 31)', 'Forever... : A Novel of Good and Evil, Love and Hope', 'Four Blondes', 'Four Seasons', 'Fox River', 'Frankenstein (Wordsworth Classics)', 'French Kiss', 'Friday', 'Friedhof der Kuscheltiere. Roman.', 'Full Bloom', \"Full Tilt (Janet Evanovich's Full Series)\", 'GARDEN OF SHADOWS (Dollanger Saga (Paperback))', 'Gai-Jin: A Novel of Japan', 'Gap Creek: A Novel', 'Gap Creek: The Story of a Marriage', 'Garden of Shadows (Dollanganger)', 'Garfield Eats His Heart Out', 'Gathering Lies', 'GefÃ?Â¤hrliche Geliebte.', 'Generation Golf. Eine Inspektion', 'Generation X: Tales for an Accelerated Culture', 'Get Your War On', 'Getting Lucky (Avon Light Contemporary Romances)', \"Getting Mother's Body : A Novel\", 'Getting Over It', 'Getting Rid Of Bradley', 'Ghost Girl: The True Story of a Child in Peril and the Teacher Who Saved Her', \"Ghost Soldiers: The Epic Account of World War II's Greatest Rescue Mission\", 'Gianna: Aborted... and Lived to Tell About It (Living Books)', 'Gingerbread', 'Girl Goddess #9 : Nine Stories', 'Girl With a Pearl Earring', 'Girl in Hyacinth Blue', 'Girlfriends', 'Girlfriends: Invisible Bonds, Enduring Ties', 'Girls Night', \"Girls' Poker Night: A Novel\", 'Glory Glory', 'God Bless You, Mr. Rosewater or Pearls Before Swine', 'God Project', 'God Save the Sweet Potato Queens', 'Goddesses in Everywoman: A New Psychology of Women', 'Godplayer', 'Going Down', 'Golden Lasso', 'Gone For Good', 'Gone With the Wind', 'Good Night, Mr. Tom', 'Gottes Werk Und Teufels Beitrag', 'Grim Pickings', 'Ground Zero and Beyond', \"Guerre De Troie N'Aura Pas Lieu\", 'Guilty Pleasures (Anita Blake Vampire Hunter (Paperback))', \"Gulliver's Travels (Wordsworth Classics)\", 'HIS LITTLE WOMEN : HIS LITTLE WOMEN', 'HOUSE OF MIRTH', 'Halfway To Heaven', 'Hamlet', \"Hangman's Root\", 'Hannibal', 'Happiness : A Novel', 'Happy Birthday, Josefina!: A Springtime Story (American Girls Collection (Paper))', 'Hard Candy', \"Harrigan'S Bride (Harlequin Historicals, 439)\", 'Harry Potter Und Der Feuerkelch', 'Harry Potter and the Order of the Phoenix (Book 5)', 'Harry Potter and the Prisoner of Azkaban (Harry Potter)', \"Harry Potter and the Sorcerer's Stone (Book 1)\", \"Harry Potter and the Sorcerer's Stone (Harry Potter (Paperback))\", 'Harry Potter und der Gefangene von Azkaban', 'Harry Potter und der Stein der Weisen', 'Harry Potter y el cÃ¡liz de fuego', 'Harry Potter y el prisionero de Azkaban', 'Harry Potter y la cÃ¡mara secreta', 'Harry Potter y la piedra filosofal', 'Hatchet', 'Haunted', 'Haute FidÃ?Â©litÃ?Â©', 'Having Faith', \"Having Our Say: The Delany Sisters' First 100 Years\", 'Heart of a Warrior', 'Heartbreaker', 'Hello Darling, Are You Working?', 'Henry and June: From \\\\A Journal of Love\\\\\" -The Unexpurgated Diary of Anais Nin (1931-1932)\"', 'Henry and the Paper Route (Cleary Reissue)', 'Her', \"Her Healing Touch  (Morgan's Mercenaries: Destiny's Women)\", 'Her Secret His Child (Harlequin Superromance, 836)', 'Herr Lehmann.', 'Hidden Prey', 'Hideaway', 'High Crimes', 'High Fidelity', 'High Maintenance', 'High Stakes', 'High Tide', \"High Times Presents Paul Krassner's Pot Stories for the Soul\", 'Historia De Una Gaviota Y Del Gato (Andanzas)', 'Hit Man', 'Holes (Readers Circle)', 'Holy Fire: A Novel (Bantam Spectra Book)', 'Home Comforts : The Art and Science of Keeping House', 'Home Song', 'Home To Eden', 'Homo Faber', 'Honku : The Zen Antidote to Road Rage', 'Hop on Pop (I Can Read It All by Myself Beginner Books)', \"Hornet's Nest\", 'Horse Heaven', 'Horsemasters Daughter', 'Hot Shot', 'Hotel Sarajevo', 'Hound of the Baskervilles (Aladdin Classics)', 'House On Olive Street', 'How Not to Be a Messie: The Ultimate Guide for the Neatness Challenged : The Messies Manual/the Messie Motivator', 'How Wal-Mart is Destroying America and The World and What You Can Do About It', 'How to Be Good', 'How to Be a Canadian: Even If You Already are One', 'How to Cook a Tart', 'Hunde von Riga.', 'Hunting for Hidden Gold (Hardy Boys Mystery Stories)', 'Hurricane Bay', 'Hygiene De Lassassin', 'I &amp; Claudius: Travels With My Cat', 'I Am Legend', 'I Capture the Castle', 'I Hope You Dance', 'I Kissed Dating Goodbye: A New Attitude Toward Relationships And Romance', \"I'm Not Scared\", \"I'm Ok-You're Ok\", \"I'm a Stranger Here Myself: Notes on Returning to America After 20 Years Away\", 'Iced (Regan Reilly Mysteries (Hardcover))', 'Icy Sparks', 'If Looks Could Kill', 'Illuminata: A Return to Prayer', 'Illuminati.', 'Im Eishaus.', 'Impetuous Innocent', 'In Love &amp; Trouble: Stories of Black Women', 'In Their Footsteps', 'In a Class by Itself', 'In the Electric Mist with Confederate Dead', 'In the Fall (Vintage Contemporaries (Paperback))', 'In the Memory of the Forest: A Novel', \"In the Name of Love : Ann Rule's Crime Files Volume 4 (Ann Rule's Crime Files)\", 'In the Shadow of Evil: The Handkerchief (The Blackstone Chronicles , No 4)', 'Inappropriate Men (Red Dress Ink)', 'Independent Wife (Calhoun Women)', 'Inner Simplicity : 100 Ways to Regain Peace and Nourish Your Souls', 'Innocence', 'Innocents Club', 'Intensity', 'Interpreter of Maladies', 'Into the Darkness', 'Irish Magic II: Four Unforgettable Novellas of Love and Enchantment (Iris Magic)', 'Isle of Dogs', 'It Came from Beneath the Sink! (Goosebumps, No 30)', \"J'Ã?Â©tais si timide que j'ai mordu la maÃ?Â®tresse\", 'Jane Doe', 'Jane Eyre', 'Jane Eyre (Wordsworth Classics)', \"Je Voudrais Que Quelqu'un M'Attende Quelque Part\", 'Jennifer Government', 'Jewels', 'Joe College : A Novel', 'Journey of Souls: Case Studies of Life Between Lives', \"Julia's Last Hope (Oke, Janette, Women of the West.)\", 'Just A Minute More - Glimpses of our Great Canadian Heritage', 'Just Friends', 'Just Grandpa and Me (Look-Look)', 'Just Me and My Mom (A Little Critter Book)', 'Just Over The Mountain', 'Just for You', 'Keeper Of The Bride', 'Kentucky Rich', 'Kentucky Sunrise', 'Key of Light (Key Trilogy (Paperback))', 'Killer Asylum', 'Killing Time', 'Kindred Spirits (Dragonlance: The Meetings Sextet, Vol. 1)', 'Kiss of the Highlander', 'Kissed a Sad Goodbye (Duncan Kincaid/Gemma James Novels (Paperback))', 'Kitchen Table Wisdom: Stories That Heal', 'Knight At Dawn (Magic Tree House 2, paper)', 'Knight of the Black Rose (Ravenloft Terror of Lord Soth, Vol. 1)', \"L'Ecume Des Jours\", \"L'Enchanteur\", \"L'Etranger (Collection Folio, 2)\", \"L'Homme aux cercles bleus\", \"L'Insoutenable Legerete de l'Etre\", 'LA Machine Infernale (Le Livre de poche ; 854)', 'LA Peste (Folio Series: No. 42)', 'LACE', 'LONESOME DOVE  M', 'La Cantatrice Chauve: Anti-Piece / La Lecon: Drame Comique (Collection Folio, 236)', 'La Classe de neige', 'La Escafandra y La Mariposa', 'La Ferme Des Animaux', 'La Joven de Las Naranjas', 'La Maison des feuilles', 'La Nuit Des Enfants Rois', 'La Nuit Des Temps', 'La Perle', 'La PissotiÃ?Â¨re', 'La Sombra del Viento', 'La TreiziÃ?Â¨me cible', \"La Vie Mode D'Emploi\", 'La Vie devant soi', 'La caverna = A caverna', 'La fiesta del chivo', 'La guerre des cerveaux', 'La piel del tambor', 'La reina del Sur', 'Lake News', \"Last Dance, Last Chance (Ann Rule's Crime Files)\", 'Last Honest Woman', 'Last Lover', 'Last of the Amazons : A Novel', 'Lauf, Jane, lauf. Roman.', 'Le Chien Des Baskerville', \"Le Crime de l'Orient-Express\", 'Le Grand Livre des gnomes', 'Le Grand Meaulnes (Classiques De Poche)', 'Le Guide galactique, tome 1', 'Le Jour des fourmis', 'Le Meilleur Des Mondes', 'Le MystÃ?Â¨re de la chambre jaune', 'Le Nom de la rose', \"Le Parfum : Histoire d'un meurtrier\", 'Le Petit Prince', 'Le portrait de Dorian Gray', 'Leaving Home/a Collection of Lake Wobegon Stories', 'Lecume Des Jours', 'Les Dames du lac, tome 1', 'Les Fourmis', 'Les Fous De Bassan', 'Les Heures / The Hours', 'Les Soldats de Salamine', 'Les amants maudits (10/18)', 'Les Ã?Â©trangers sont nuls', \"Let's Get Invisible! (Goosebumps, No 6)\", 'Lethal Seduction', 'Letters to a Young Poet', 'Letting Go', 'Lies My Teacher Told Me: Everything Your History Textbook Got Wrong', 'Life and Death in Shanghai', 'Life of Pi', \"Life's Little Instruction Book (Life's Little Instruction Books (Paperback))\", \"Life's Little Instruction Book; Volume II\", 'Like Silk', 'Like Water for Chocolate : A Novel in Monthly Installments with Recipes, Romances, and Home Remedies', 'Limpieza de sangre', 'Lincoln', \"Lion'S Lady (The Sutherland Series) (Historical , No 411)\", 'Lists to Live By:  The First Collection : For Everything that Really Matters (Lists to Live By)', \"Live and Learn and Pass It on: People Ages 5 to 95 Share What They'Ve Discovered About Life, Love, and Other Good Stuff (Live &amp; Learn &amp; Pass It on)\", 'Livealbum.', 'Living the Simple Life: A Guide to Scaling Down and Enjoying More', 'Lonesome Dove', 'Look Away', 'Looking For Laura', \"Lord Foul's Bane (The Chronicles of Thomas Covenant the Unbeliever, Book One)\", 'Lord Of The Desert (Mira)', 'Lord of the Flies', 'Lords und Ladies. Ein Roman von der bizarren Scheibenwelt.', 'Los Renglones Torcidos De Dios', 'Lost Boy, Lost Girl', 'Lost Highways', 'Love', 'Love Hina (Book 1)', \"Love In Bloom's\", 'Love Takes Wing (Love Comes Softly, Book 7)', 'Love and Other Four-Letter Words (Laurel-Leaf Books)', 'Love in the Time of Cholera', \"Lover's Lane\", 'Lovers and Liars', 'Loving Jessie', 'Loyalty in Death', 'Lucia, Lucia : A Novel', \"LÃ?Â©on l'Africain\", 'MADAME BOVARY', 'MATTER OF HONOR', \"Mackenzie'S Mountain\", 'Made in America: An Informal History of the English Language in the United States', 'Maggie Needs an Alibi', 'Maine Man  (By The Year 2000: Marriage) (Harlequin Superromance, 822)', 'Malice in London (Erskine Powell Mysteries)', 'Man From Texas (43 Light Street/Mine To Keep) (Intrigue, 625)', 'Man With A Mission (The Men Of Maple Hill) (Harlequin Superromance, No. 1033)', 'Man With A Past', 'Man and Boy', 'Manhunting (Mira)', 'Manifold: Time (Manifold (Paperback))', 'Mansfield Park (Wordsworth Collection)', 'Mariana.', \"Married at Midnight an Anthology: The Determined Bride/A Kiss After Midnight/Scandal's Bride/Beyond the Kiss\", 'Married for a Month', 'Mary Anne and the Great Romance (Baby-Sitters Club, 30)', 'Mary, Mary: A Novel', 'Maskerade (Discworld Novels (Paperback))', 'Masquerade', 'Mates, Dates, and Designer Divas (Mates, Dates)', 'Matilda', \"McNally's Trial (Archy McNally Novels (Paperback))\", 'Me: by Jimmy (Big Boy) Valente', 'Meditations for New Mothers', 'Meet Addy: An American Girl (American Girls Collection (Paper))', 'Meet Felicity: An American Girl : 1774 (The American Girls Collection, Book 1)', 'Meet Josefina, an American Girl (American Girls Collection (Paper))', 'Meet Kit: An American Girl : 1934 (American Girls Collection)', 'Meg', 'Mein deutsches Dschungelbuch.', 'Memorias de una geisha', 'Men Are from Mars, Women Are from Venus: A Practical Guide for Improving Communication and Getting What You Want in Your Relationships', 'Metaphysique Des Tubes', 'Midnight Champagne : A Novel (Mysteries &amp; Horror)', 'Midnight Rainbow', 'Midnight Sun', 'Mientras Vivimos', 'MilitÃ?Â¤rmusik.', 'Minding the Body: Women Writers on Body and Soul', 'Miracle at St. Anna', 'Mirror Mirror: A Novel', 'Misery', \"Miss Smilla's Feeling for Snow\", 'Miss Zukas and the Library Murders (Miss Zukas Mysteries)', 'Mister Posterior and the Genius Child', 'Mistletoe Murder: A Lucy Stone Mystery (Lucy Stone Mysteries (Paperback))', 'Mittsommermord. Roman.', 'Mixed Messages', 'Mixed Signals (Alabaster Books)', \"Molly Moon's Incredible Book of Hypnotism (Molly Moon Books (Hardcvoer))\", 'Mondscheintarif', 'Monster Blood (Goosebumps, No 3)', 'Monster: A Novel', 'Monstrous: The Autobiography of a Serial Killer but for the Grace of God', 'Montana', 'Moo Baa La La La', 'Moon Over Water', 'Morality for Beautiful Girls (No.1 Ladies Detective Agency)', 'More Than You Know', 'Moreta: Dragonlady of Pern', \"MoveOn's 50 Ways to Love Your Country: How to Find Your Political Voice and Become a Catalyst for Change\", 'Moving Pictures (Discworld Novels (Paperback))', 'Mrs. Pollifax, Innocent Tourist (Mrs. Pollifax Mysteries (Paperback))', 'Murder of a Snake in the Grass (Scumble River Mysteries)', 'My Antonia', 'My Brother Sam Is Dead (Point)', 'My Dream of You', 'My Home Is Far Away', 'My Sergei: A Love Story', 'MÃ?Â¶rder ohne Gesicht.', 'Naked', 'Naked.', 'Name Der Rose', 'Name Dropping', 'Narrative of the Life of Frederick Douglass, an American Slave (The Penguin American Library)', 'Native Speaker', 'Naughty Marietta', 'Neue Leiden Des Jungen', 'Never Too Late (43 Light St.) (Intrigue, 558)', 'Neverwhere', 'New Attitude', 'New Vegetarian: Bold and Beautiful Recipes for Every Occasion', 'Next Victim', 'Nicole Brown Simpson: The Private Diary of a Life Interrupted', 'Night Fire', 'Night Mare #06', \"Night Moves (Tom Clancy's Net Force, No. 3)\", 'Night Of The Black Bird', 'Night Probe', 'Night Sins', 'Night in Werewolf Woods (Give Yourself Goosebumps, No 5)', 'Night of the Avenging Blowfish: A Novel of Covert Operations, Love, and Luncheon Meat', 'Nightmare in Shining Armor : A Den of Antiquity Mystery (Den of Antiquity)', 'Nighttime Is My Time (Clark, Mary Higgins)', 'Nimitz Class', 'No Crystal Stair', 'No Ordinary Man (Dangerous Men) (Harlequin Intrigue, No 365)', 'Noches de Azed, Las', 'Nora, Nora: A Novel', 'North Of Clever', 'North and South (North and South Trilogy, Book 1)', 'North of Montana', 'Nothing But The Truth: A Documentary Novel', 'Nouvelles chroniques tÃ?Â©lÃ?Â©', 'Novecento : Pianiste', 'November of the Heart', 'Nursery Crimes (Mommy-Track Mysteries (Paperback))', 'Object Lessons', 'Ocho, El', 'Of Mice and Men', 'Of Mice and Men/Cannery Row (2 Books in 1)', 'Oh, the Things I Know! A Guide to Success, or, Failing That, Happiness', 'Old Curiosity Shop (Wordsworth Collection)', 'Old Money', \"Old Possum's Book of Practical Cats, Illustrated Edition\", 'Old Yeller', 'On Thin Ice', 'Once In Paris', 'Once Upon a Blind Date', 'One', 'One Hundred Years of Solitude', 'One Last Kiss', 'One More Sunday', 'One True Thing', \"Operating Instructions: A Journal of My Son's First Year\", 'Orlando: A Biography', 'Orphan', 'Oscar et la dame rose', 'Ou Es-Tu?', 'Out Of The Dark', 'Out Of The Dark (Silhouette Intimate Moments, No 638)', 'Out of the Blue (Red Dress Ink (Paperback))', 'Out of the Shadows (Shadows Trilogy (Paperback))', 'Outbreak', 'Outlaw Love  (Debut Author) (Harlequin Historicals, No 360)', 'Outsider', 'POSTCARDS', 'PS, I Love You', 'Pants on Fire', \"Party of One: The Loners' Manifesto\", 'Passing Through Paradise', 'Payback', 'Peace Like a River', 'Pendragon', 'Per Anhalter durch die Galaxis. Sammelband.', \"Perfect Evil (Maggie O'Dell Novels (Paperback))\", 'Persuasion (Wordsworth Collection)', 'Petals on the River', 'Petals on the River (Avon Historical Romance)', \"Peter Benchley's Amazon: The Ghost Tribe (Peter Benchley's Amazon, No 1)\", 'Phantom Lover  (43 Light Street)', \"Phule's Company (Phule's Company, No 1)\", 'Picture of Dorian Gray (Wordsworth Classics)', 'Pigs at the Trough: How Corporate Greed and Political Corruption Are Undermining America', 'Pigs in Heaven', 'Plan of Attack', \"Please Stop Laughing at Me: One Woman's Inspirational Story\", 'Politically Correct Bedtime Stories', 'Politically Correct Bedtime Stories: Modern Tales for Our Life and Times', 'Portrait of the Artist As a Young Man (Wordsworth Classics)', 'Postmarked Yesteryear: 30 Rare Holiday Postcards', 'Prayers for Rain', 'Preludes and Nocturnes (Sandman, Book 1)', 'Premeditated Marriage', 'Prey', 'Pride &amp; Prejudice (Wordsworth Classics)', 'Pride and Prejudice', \"Pride and Prejudice (World's Classics)\", 'Primal Fear', 'Prime Evil (Buffy the Vampire Slayer)', 'Prime Witness', 'Princess Annie', 'Probe (Star Trek)', 'Prodigal Daughter', 'Prodigy', 'Promise Me Forever', 'Promise Texas', 'Prozac Nation: Young and Depressed in America', 'Prozac Nation: Young and Depressed in America : A Memoir', 'Publication Manual of the American Psychological Association (Publication Manual of the American Psychological Association, 4th ed)', 'Puerto Vallarta Squeeze', 'Pulling Your Own Strings: Dynamic Techniques for Dealing with Other People and Living Your Life as You Choose', 'Pure Drivel', 'Purity in Death', 'Qb VII', 'Rage of Angels', 'Ragnarok (Star Trek Voyager, No 3)', 'Rain', 'Rain Fall', \"Ralph's Party\", 'Ramona and Her Mother (Ramona Quimby (Paperback))', 'Random Acts', 'Random Passage', 'Range of Motion', 'Ravage', 'Reading Lolita in Tehran: A Memoir in Books', 'Rebecca', 'Rebekah (Women of Genesis)']\n"
     ]
    }
   ],
   "source": [
    "#Checking titles of the books\n",
    "print(list(pt.index[:1000]))"
   ]
  },
  {
   "cell_type": "code",
   "execution_count": 80,
   "id": "83e7132d-0e1a-4ae4-b9b5-5bfab094072d",
   "metadata": {},
   "outputs": [
    {
     "name": "stdout",
     "output_type": "stream",
     "text": [
      "['Boy Still Missing : A Novel']\n"
     ]
    }
   ],
   "source": [
    "print([title for title in pt.index if 'Boy Still Missing' in title])"
   ]
  },
  {
   "cell_type": "code",
   "execution_count": 74,
   "id": "a61f6934",
   "metadata": {},
   "outputs": [
    {
     "data": {
      "text/plain": [
       "[['311 Pelican Court',\n",
       "  'Debbie Macomber',\n",
       "  'https://images.amazon.com/images/P/0739437631.01.MZZZZZZZ.jpg'],\n",
       " ['Between Friends',\n",
       "  'Debbie Macomber',\n",
       "  'https://images.amazon.com/images/P/155166674X.01.MZZZZZZZ.jpg'],\n",
       " ['Girls Night',\n",
       "  'Stef Ann Holm',\n",
       "  'https://images.amazon.com/images/P/1551669498.01.MZZZZZZZ.jpg'],\n",
       " ['Deadly Intent',\n",
       "  'Christiane Heggan',\n",
       "  'https://images.amazon.com/images/P/1551666480.01.MZZZZZZZ.jpg']]"
      ]
     },
     "execution_count": 74,
     "metadata": {},
     "output_type": "execute_result"
    }
   ],
   "source": [
    "recommend('204 Rosewood Lane')"
   ]
  },
  {
   "cell_type": "code",
   "execution_count": 81,
   "id": "277965b0-b978-4978-a5aa-ff1aabfa12a6",
   "metadata": {},
   "outputs": [
    {
     "data": {
      "text/plain": [
       "[[\"The Shelters of Stone (Earth's Children, Book 5)\",\n",
       "  'JEAN M. AUEL',\n",
       "  'https://images.amazon.com/images/P/055328942X.01.MZZZZZZZ.jpg'],\n",
       " ['Made in America: An Informal History of the English Language in the United States',\n",
       "  'Bill Bryson',\n",
       "  'https://images.amazon.com/images/P/068810312X.01.MZZZZZZZ.jpg'],\n",
       " ['Cry Wolf',\n",
       "  'TAMI HOAG',\n",
       "  'https://images.amazon.com/images/P/055356160X.01.MZZZZZZZ.jpg'],\n",
       " ['Night Sins',\n",
       "  'TAMI HOAG',\n",
       "  'https://images.amazon.com/images/P/055356451X.01.MZZZZZZZ.jpg']]"
      ]
     },
     "execution_count": 81,
     "metadata": {},
     "output_type": "execute_result"
    }
   ],
   "source": [
    "recommend('Boy Still Missing : A Novel')"
   ]
  },
  {
   "cell_type": "code",
   "execution_count": null,
   "id": "e87f6224",
   "metadata": {},
   "outputs": [],
   "source": []
  },
  {
   "cell_type": "code",
   "execution_count": null,
   "id": "91e1cc2d",
   "metadata": {},
   "outputs": [],
   "source": []
  },
  {
   "cell_type": "code",
   "execution_count": null,
   "id": "e0b00559",
   "metadata": {},
   "outputs": [],
   "source": []
  },
  {
   "cell_type": "code",
   "execution_count": null,
   "id": "82f09302",
   "metadata": {},
   "outputs": [],
   "source": []
  }
 ],
 "metadata": {
  "kernelspec": {
   "display_name": "Python 3",
   "language": "python",
   "name": "python3"
  },
  "language_info": {
   "codemirror_mode": {
    "name": "ipython",
    "version": 3
   },
   "file_extension": ".py",
   "mimetype": "text/x-python",
   "name": "python",
   "nbconvert_exporter": "python",
   "pygments_lexer": "ipython3",
   "version": "3.12.6"
  }
 },
 "nbformat": 4,
 "nbformat_minor": 5
}
